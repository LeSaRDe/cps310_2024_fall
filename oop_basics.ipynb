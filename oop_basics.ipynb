{
 "cells": [
  {
   "cell_type": "markdown",
   "id": "ff0ffc2f-5843-4971-b871-de305510139e",
   "metadata": {},
   "source": [
    "# Introduction to OOP"
   ]
  },
  {
   "cell_type": "markdown",
   "id": "13707eb4-f94a-45da-a6e5-f6188415a02e",
   "metadata": {},
   "source": [
    "## Motivation\n",
    "\n",
    "* From the data perspective, OOP delivers a structural and hierarchical approach to define **DATA TYPES**.\n",
    "  - For example, when describing the specs of a laptop, ThinkPad P16 Gen 2, the specs will firstly follow the specs template of general PC (e.g., CPU and memory specs are mandatory) to describe the mandatory components, as this laptop *IS A* PC, and thus we do not have to rethink what must be included in the specs to describe the laptop as a PC. In addition, ThinkPad P16 Gen 2 has many features beyond a traditional PC, and those are specific to this model.\n",
    "  - In this example, `PC` is a type (in OOP it is called a **CLASS**), and `ThinkPadP16Gen2` is a type \"inherited\" from `PC` (called a **SUBCLASS**).\n",
    "* From the functionality perspective, OOP provides a paradigm enabling us to consider an object as \"a thing that has specific functions\" without caring about the interal details of this object.\n",
    "  - For example, if we need something that can make coffee, this thing can be an electric coffee maker, a Moka pot, an espresso machine, or something else.\n",
    "  - In this example, the thing we need is defined by a concrete function (i.e., `make_coffee`) regardless of how the coffee will be made. All of those valid coffee makers, if defined as classes, have the function `make_coffee`, though the implementations can be signficantly different."
   ]
  },
  {
   "cell_type": "markdown",
   "id": "572d40fb-2f6d-4ad9-a18d-73ac5890f0bc",
   "metadata": {},
   "source": [
    "## Pillars of OOP\n",
    "\n",
    "* **Abstraction**: By defining classes, objects in reality are represented using only considered attributes in OOP, rather than involving every piece of details, which gives it an *abstract* representation in the computing world.\n",
    "  - For example, when studying the performance of a job scheduling algorithm in a computing cluster using simulation, every computer in the cluster can be abstracted as an object with a certain number of CPU cores and a certain amount of memory with all other aspects, such as the hard drive and the motherboard, ignored.\n",
    "* **Encapsulation**: Communication between objects are typically based on the functions they provide to others for access. Thus, internal implementation details are not relevant to the communication, and should be hidden and protected. Encapsulation guarantees that the communication will not be affected by any interal changes as long as the semantics of those functions are kept unchanged.\n",
    "  - The `make_coffee` example above straightforwardly explains this point.\n",
    "* **Inheritance**: When objects in reality are transformed to types in OOP (i.e., classes), their intrinsic *IS-A* relationships are captured by inheritance in OOP.\n",
    "  - The laptop example above explains this.\n",
    "* **Polymorphism**: If inheritance endows OOP with the power of generalisation, polymorphism, on the other hand, introduces specialization.\n",
    "  - In the `make_coffee` example, each coffee maker has a distinct implementation of `make_coffee` which produces a unique type of coffee, though all of productions are still coffee. Such distinctions are embodied by polymorphism."
   ]
  },
  {
   "cell_type": "markdown",
   "id": "6bd7bd07-1def-4577-b0de-0bb8d0ba0a67",
   "metadata": {},
   "source": [
    "## Relationships Between Objects\n",
    "\n",
    "* **Dependency**: As suggested by the name, if one object depends on another object, then there is such a relationship between them. As to the exact definition of \"dependency\", unfortunately, there is none. And, thus, it is necessary to distinguish between this relationships and others. Usually, it may be helpful if we understand it in this way, especially in programs: *one object needs to \"use\" another*. This is the weakest relationship.\n",
    "  - For example, the relationship between Fanchao and his laptop is dependency。\n",
    "* **Association**: Association is a stronger dependency, and typically used to describe that an object is \"attached to\" another.\n",
    "  - For example, Fanchao created a new course, Social Network Analysis. It is said, this course is associated to Fanchao, because if Fanchao didn't create it, it won't exist.\n",
    "* **Aggregation**: If one object is consisted of one or multiple objects of another class, the relationship in between is aggregation.\n",
    "  - For example, the Mathematical Sciences department has many faculty members, i.e., the department consists of multiple faculty members. The relationship between the department and the faculty members is aggregation.\n",
    "* **Composition**: Composition is a stronger association, and typically used to describe that an object is composed of one or mulitple objects of another class. Further, if the container object vanishes, the component objects won't exist anymore, and if all components vanish, the container won't exist anymore.\n",
    "  - For example, Misericordia University is composed of mulitple departments. Their relationship is composition. If the university doesn't exist, the departments cannot exist. And, if all departments are gone, the universtiy has to close. This is different from the relationship between the Math department and its faculty members. "
   ]
  }
 ],
 "metadata": {
  "kernelspec": {
   "display_name": "Python 3 (ipykernel)",
   "language": "python",
   "name": "python3"
  },
  "language_info": {
   "codemirror_mode": {
    "name": "ipython",
    "version": 3
   },
   "file_extension": ".py",
   "mimetype": "text/x-python",
   "name": "python",
   "nbconvert_exporter": "python",
   "pygments_lexer": "ipython3",
   "version": "3.12.4"
  }
 },
 "nbformat": 4,
 "nbformat_minor": 5
}
