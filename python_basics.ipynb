{
 "cells": [
  {
   "cell_type": "code",
   "execution_count": 15,
   "id": "3947ad0c-6135-497d-927e-58a198e23c21",
   "metadata": {},
   "outputs": [],
   "source": [
    "import numpy as np\n",
    "from numpy import asarray"
   ]
  },
  {
   "cell_type": "code",
   "execution_count": 5,
   "id": "d9bf5903-ea90-4679-a0ea-a81b6fcd49ea",
   "metadata": {},
   "outputs": [],
   "source": [
    "my_arr = asarray([1, 2, 3])"
   ]
  },
  {
   "cell_type": "code",
   "execution_count": 21,
   "id": "e19a9ce4-ef53-4f6f-80b3-441e303b01f0",
   "metadata": {},
   "outputs": [],
   "source": [
    "def my_func(x):\n",
    "    try:\n",
    "        result = 1 / x\n",
    "    except Exception as any_err:\n",
    "        print('[my_func] x = %s, err = %s' % (x, any_err))\n",
    "        return np.nan\n",
    "    else:\n",
    "        print('[my_func] x = %s, result = %s, nothing wrong!' % (x, result))\n",
    "    finally:\n",
    "        print('[my_func] this is finally.')\n",
    "\n",
    "    return result"
   ]
  },
  {
   "cell_type": "code",
   "execution_count": 22,
   "id": "93fc9ce0-8e11-43ae-8169-1aa0f74dca1d",
   "metadata": {},
   "outputs": [
    {
     "name": "stdout",
     "output_type": "stream",
     "text": [
      "[my_func] x = 0, err = division by zero\n",
      "[my_func] this is finally.\n"
     ]
    }
   ],
   "source": [
    "r = my_func(0)"
   ]
  },
  {
   "cell_type": "code",
   "execution_count": 23,
   "id": "2e9fa533-9de2-4f4f-8e92-7564a7c10761",
   "metadata": {},
   "outputs": [
    {
     "data": {
      "text/plain": [
       "nan"
      ]
     },
     "execution_count": 23,
     "metadata": {},
     "output_type": "execute_result"
    }
   ],
   "source": [
    "r"
   ]
  },
  {
   "cell_type": "code",
   "execution_count": 24,
   "id": "8a7b8206-ebcc-43f9-b64a-7bc03463da51",
   "metadata": {},
   "outputs": [
    {
     "name": "stdout",
     "output_type": "stream",
     "text": [
      "[my_func] x = 2, result = 0.5, nothing wrong!\n",
      "[my_func] this is finally.\n"
     ]
    }
   ],
   "source": [
    "r_2 = my_func(2)"
   ]
  },
  {
   "cell_type": "code",
   "execution_count": 25,
   "id": "619fca3a-b2a7-4b30-b152-ae20665fdf24",
   "metadata": {},
   "outputs": [
    {
     "data": {
      "text/plain": [
       "0.5"
      ]
     },
     "execution_count": 25,
     "metadata": {},
     "output_type": "execute_result"
    }
   ],
   "source": [
    "r_2"
   ]
  },
  {
   "cell_type": "code",
   "execution_count": 1,
   "id": "2b42786d-dfcd-4da3-b5d0-a585821a40f8",
   "metadata": {},
   "outputs": [
    {
     "name": "stdout",
     "output_type": "stream",
     "text": [
      "total 1.2M\n",
      "drwxrwxr-x  4 fmeng fmeng 4.0K Sep 16 08:51 .\n",
      "drwxrwxr-x 35 fmeng fmeng 4.0K Sep  4 08:18 ..\n",
      "-rw-rw-r--  1 fmeng fmeng 114K Aug 26 08:03 CPS310_2023_Fall_Syllabus.pdf\n",
      "-rw-rw-r--  1 fmeng fmeng  88K Sep 16 07:59 CPS310_2024_Fall_HW1.pdf\n",
      "-rw-rw-r--  1 fmeng fmeng 5.2K Aug 29 22:10 dev_env.md\n",
      "-rw-rw-r--  1 fmeng fmeng 165K Aug 29 22:11 dev_env.pdf\n",
      "drwxrwxr-x  7 fmeng fmeng 4.0K Sep 16 08:01 .git\n",
      "-rw-r--r--  1 fmeng fmeng 3.1K Aug 26 00:24 .gitignore\n",
      "-rw-rw-r--  1 fmeng fmeng  179 Sep 16 08:00 input.csv\n",
      "drwxrwxr-x  2 fmeng fmeng 4.0K Sep  6 08:44 .ipynb_checkpoints\n",
      "-rw-r--r--  1 fmeng fmeng 1.1K Aug 26 00:24 LICENSE\n",
      "-rw-rw-r--  1 fmeng fmeng 6.0K Sep  6 08:19 oop_basics.ipynb\n",
      "-rw-rw-r--  1 fmeng fmeng 2.9K Sep 13 08:34 python_basics.ipynb\n",
      "-rw-rw-r--  1 fmeng fmeng 154K Sep  5  2023 python_basics_review2.pdf\n",
      "-rw-rw-r--  1 fmeng fmeng 559K Sep 12  2023 python_basics_review.pdf\n",
      "-rw-r--r--  1 fmeng fmeng   22 Aug 26 00:24 README.md\n",
      "-rw-rw-r--  1 fmeng fmeng    7 Aug 30 08:44 test_file\n"
     ]
    }
   ],
   "source": [
    "!ls -ahl"
   ]
  },
  {
   "cell_type": "code",
   "execution_count": 7,
   "id": "0c20576c-3fd3-4b50-9b33-411b9e632ae0",
   "metadata": {},
   "outputs": [
    {
     "name": "stdout",
     "output_type": "stream",
     "text": [
      "l_col_names = ['val1', 'val2']\n",
      "l_lns = [[0.16, 'A'], [0.05, 'B'], [-0.82, 'C'], [-0.25, 'D'], [0.69, 'E'], [-0.34, 'F'], [0.48, 'G'], [0.65, 'H'], [0.95, 'I'], [-0.55, 'J'], [0.01, 'K'], [0.96, 'L'], [0.98, 'M'], [0.71, 'N'], [0.54, 'O'], [-0.31, 'P'], [-0.14, 'Q'], [-0.12, 'R'], [-0.8, 'S'], [-0.26, 'T']]\n"
     ]
    }
   ],
   "source": [
    "# We will use the built-in CSV module.\n",
    "import csv\n",
    "\n",
    "# To store data records from input.csv.\n",
    "l_lns = []\n",
    "\n",
    "# Open the input.csv, and read in lines.\n",
    "with open('input.csv', 'r') as in_fd:\n",
    "    # Create a CSV reader on the input file's descriptor.\n",
    "    csv_reader = csv.reader(in_fd)\n",
    "    # Retrieve the column names.\n",
    "    l_col_names = next(csv_reader)\n",
    "    print('l_col_names = %s' % l_col_names)\n",
    "    # Read in lines.\n",
    "    for idx, ln in enumerate(csv_reader):\n",
    "        # Cast val1 from str to float.\n",
    "        val1_float = float(ln[0])\n",
    "        # Construct a new data records.\n",
    "        data_rec = [val1_float, ln[1]]\n",
    "        # Add this data record into our data list.\n",
    "        l_lns.append(data_rec)\n",
    "        # print('ln %s = %s' % (idx + 1, data_rec))\n",
    "# Check out data record list visually.\n",
    "print('l_lns = %s' % l_lns)"
   ]
  },
  {
   "cell_type": "code",
   "execution_count": 9,
   "id": "87a3cb0d-c794-4476-ae5d-86be4a7337c8",
   "metadata": {},
   "outputs": [
    {
     "data": {
      "text/plain": [
       "[1, 2, 3, 4, 5]"
      ]
     },
     "execution_count": 9,
     "metadata": {},
     "output_type": "execute_result"
    }
   ],
   "source": [
    "sorted({2: 'B', 1: 'D', 3: 'B', 4: 'E', 5: 'A'})"
   ]
  },
  {
   "cell_type": "code",
   "execution_count": 12,
   "id": "fb1ac776-6670-4870-a7c0-bd121edf9062",
   "metadata": {},
   "outputs": [],
   "source": [
    "# Convert a string to an array of bytes (i.e., characters)\n",
    "arr = 'abc'.encode()"
   ]
  },
  {
   "cell_type": "code",
   "execution_count": 20,
   "id": "226dbd24-6489-4be6-8acc-efa1e8d54c58",
   "metadata": {},
   "outputs": [
    {
     "data": {
      "text/plain": [
       "97"
      ]
     },
     "execution_count": 20,
     "metadata": {},
     "output_type": "execute_result"
    }
   ],
   "source": [
    "arr[0]"
   ]
  },
  {
   "cell_type": "code",
   "execution_count": 5,
   "id": "5360b2a7-f4ba-4460-8363-46dcfa6cf3e2",
   "metadata": {},
   "outputs": [],
   "source": [
    "l_test = [2, 2, 1, 2, 3, 5, 4, 3, 5]"
   ]
  },
  {
   "cell_type": "code",
   "execution_count": 8,
   "id": "c942d633-046e-4895-aa13-79f75e8ca8f6",
   "metadata": {},
   "outputs": [
    {
     "data": {
      "text/plain": [
       "[1, 2, 3, 4, 5]"
      ]
     },
     "execution_count": 8,
     "metadata": {},
     "output_type": "execute_result"
    }
   ],
   "source": [
    "list(set(l_test))"
   ]
  },
  {
   "cell_type": "code",
   "execution_count": 22,
   "id": "49f98f92-2832-4150-b1c4-c23a9bd935c0",
   "metadata": {},
   "outputs": [
    {
     "data": {
      "text/plain": [
       "<memory at 0x786ab8310b80>"
      ]
     },
     "execution_count": 22,
     "metadata": {},
     "output_type": "execute_result"
    }
   ],
   "source": [
    "memoryview(arr)"
   ]
  },
  {
   "cell_type": "code",
   "execution_count": 4,
   "id": "5a0d68d7-d85f-4c1b-b90d-2c489689a0db",
   "metadata": {},
   "outputs": [],
   "source": [
    "x = ['a', 'b', 'c', 'd', 'e']"
   ]
  },
  {
   "cell_type": "code",
   "execution_count": 8,
   "id": "0415a4e3-40fb-49b8-ac59-315f8afedcc2",
   "metadata": {},
   "outputs": [
    {
     "data": {
      "text/plain": [
       "['c', 'd', 'e']"
      ]
     },
     "execution_count": 8,
     "metadata": {},
     "output_type": "execute_result"
    }
   ],
   "source": [
    "x[2:]"
   ]
  },
  {
   "cell_type": "code",
   "execution_count": null,
   "id": "77e7b1bb-6e9b-4938-8032-091d7e01c12e",
   "metadata": {},
   "outputs": [],
   "source": []
  }
 ],
 "metadata": {
  "kernelspec": {
   "display_name": "Python 3 (ipykernel)",
   "language": "python",
   "name": "python3"
  },
  "language_info": {
   "codemirror_mode": {
    "name": "ipython",
    "version": 3
   },
   "file_extension": ".py",
   "mimetype": "text/x-python",
   "name": "python",
   "nbconvert_exporter": "python",
   "pygments_lexer": "ipython3",
   "version": "3.12.4"
  }
 },
 "nbformat": 4,
 "nbformat_minor": 5
}
