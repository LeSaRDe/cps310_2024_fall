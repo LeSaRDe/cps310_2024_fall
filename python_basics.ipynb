{
 "cells": [
  {
   "cell_type": "code",
   "execution_count": 15,
   "id": "3947ad0c-6135-497d-927e-58a198e23c21",
   "metadata": {},
   "outputs": [],
   "source": [
    "import numpy as np\n",
    "from numpy import asarray"
   ]
  },
  {
   "cell_type": "code",
   "execution_count": 5,
   "id": "d9bf5903-ea90-4679-a0ea-a81b6fcd49ea",
   "metadata": {},
   "outputs": [],
   "source": [
    "my_arr = asarray([1, 2, 3])"
   ]
  },
  {
   "cell_type": "code",
   "execution_count": 21,
   "id": "e19a9ce4-ef53-4f6f-80b3-441e303b01f0",
   "metadata": {},
   "outputs": [],
   "source": [
    "def my_func(x):\n",
    "    try:\n",
    "        result = 1 / x\n",
    "    except Exception as any_err:\n",
    "        print('[my_func] x = %s, err = %s' % (x, any_err))\n",
    "        return np.nan\n",
    "    else:\n",
    "        print('[my_func] x = %s, result = %s, nothing wrong!' % (x, result))\n",
    "    finally:\n",
    "        print('[my_func] this is finally.')\n",
    "\n",
    "    return result"
   ]
  },
  {
   "cell_type": "code",
   "execution_count": 22,
   "id": "93fc9ce0-8e11-43ae-8169-1aa0f74dca1d",
   "metadata": {},
   "outputs": [
    {
     "name": "stdout",
     "output_type": "stream",
     "text": [
      "[my_func] x = 0, err = division by zero\n",
      "[my_func] this is finally.\n"
     ]
    }
   ],
   "source": [
    "r = my_func(0)"
   ]
  },
  {
   "cell_type": "code",
   "execution_count": 23,
   "id": "2e9fa533-9de2-4f4f-8e92-7564a7c10761",
   "metadata": {},
   "outputs": [
    {
     "data": {
      "text/plain": [
       "nan"
      ]
     },
     "execution_count": 23,
     "metadata": {},
     "output_type": "execute_result"
    }
   ],
   "source": [
    "r"
   ]
  },
  {
   "cell_type": "code",
   "execution_count": 24,
   "id": "8a7b8206-ebcc-43f9-b64a-7bc03463da51",
   "metadata": {},
   "outputs": [
    {
     "name": "stdout",
     "output_type": "stream",
     "text": [
      "[my_func] x = 2, result = 0.5, nothing wrong!\n",
      "[my_func] this is finally.\n"
     ]
    }
   ],
   "source": [
    "r_2 = my_func(2)"
   ]
  },
  {
   "cell_type": "code",
   "execution_count": 25,
   "id": "619fca3a-b2a7-4b30-b152-ae20665fdf24",
   "metadata": {},
   "outputs": [
    {
     "data": {
      "text/plain": [
       "0.5"
      ]
     },
     "execution_count": 25,
     "metadata": {},
     "output_type": "execute_result"
    }
   ],
   "source": [
    "r_2"
   ]
  }
 ],
 "metadata": {
  "kernelspec": {
   "display_name": "Python 3 (ipykernel)",
   "language": "python",
   "name": "python3"
  },
  "language_info": {
   "codemirror_mode": {
    "name": "ipython",
    "version": 3
   },
   "file_extension": ".py",
   "mimetype": "text/x-python",
   "name": "python",
   "nbconvert_exporter": "python",
   "pygments_lexer": "ipython3",
   "version": "3.12.4"
  }
 },
 "nbformat": 4,
 "nbformat_minor": 5
}
